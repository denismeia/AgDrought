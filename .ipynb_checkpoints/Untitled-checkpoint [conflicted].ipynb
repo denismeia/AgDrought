{
 "cells": [
  {
   "cell_type": "code",
   "execution_count": 1,
   "metadata": {
    "collapsed": true
   },
   "outputs": [],
   "source": [
    "import os\n",
    "from glob import glob\n",
    "import pandas as pd\n",
    "import xuleta\n",
    "import numpy as np"
   ]
  },
  {
   "cell_type": "code",
   "execution_count": 3,
   "metadata": {},
   "outputs": [],
   "source": [
    "d = pd.read_csv(\"x.csv\")"
   ]
  },
  {
   "cell_type": "code",
   "execution_count": null,
   "metadata": {
    "collapsed": true
   },
   "outputs": [],
   "source": []
  },
  {
   "cell_type": "code",
   "execution_count": null,
   "metadata": {
    "collapsed": true
   },
   "outputs": [],
   "source": [
    "f = \"/home/denis/Downloads/ET/\""
   ]
  },
  {
   "cell_type": "code",
   "execution_count": null,
   "metadata": {
    "collapsed": true
   },
   "outputs": [],
   "source": [
    "for i in glob(f+\"*.tif\"):\n",
    "    #print(i.split(\"/\")[-1])\n",
    "    a,m = xuleta.TifToArray(i)\n",
    "    a = np.where(a<1,np.nan,a)\n",
    "    a = np.where(a>20000,np.nan,a)\n",
    "    xuleta.ArrayToTif(a,\"c\"+i.split(\"/\")[-1],f,m,Type=1)"
   ]
  },
  {
   "cell_type": "code",
   "execution_count": null,
   "metadata": {},
   "outputs": [],
   "source": [
    "xuleta.renamedate(f,oldf=\"%Y-%j\",newf=\"%Y-%m-%d\",wts=0)"
   ]
  },
  {
   "cell_type": "code",
   "execution_count": null,
   "metadata": {
    "collapsed": true
   },
   "outputs": [],
   "source": [
    "f = '/media/denis/seagate/BRASIL/MODIS/MOD09Q1/prm/'\n",
    "for i,j in zip(l1,l2):\n",
    "    b1,m = xuleta.TifToArray(i)\n",
    "    b2,m = xuleta.TifToArray(j)\n",
    "    b1 = np.where(b1<-1000,np.nan,b1)\n",
    "    b2 = np.where(b2<-1000,np.nan,b2)\n",
    "    ndvi = (b2-b1)/(b2+b1)\n",
    "    ndvi = np.where(ndvi<-0.2,-2,ndvi)\n",
    "    xuleta.ArrayToTif(ndvi,i.split('.')[1]+\".tif\",Folder=f,Metadata=m,Type=3)\n",
    "    com = 'gdalwarp -overwrite -ot Float32 -co COMPRESS=DEFLATE -co PREDICTOR=1 -co ZLEVEL=9 -multi -dstnodata -2 -of GTiff %s %s' %(i.split('.')[1]+\".tif\",i.split('.')[1]+\"T.tif\")\n",
    "    os.system(com;'rm '+i.split('.')[1]+\".tif\")\n",
    "    "
   ]
  },
  {
   "cell_type": "code",
   "execution_count": null,
   "metadata": {
    "collapsed": true
   },
   "outputs": [],
   "source": []
  }
 ],
 "metadata": {
  "kernelspec": {
   "display_name": "Python 3",
   "language": "python",
   "name": "python3"
  },
  "language_info": {
   "codemirror_mode": {
    "name": "ipython",
    "version": 3
   },
   "file_extension": ".py",
   "mimetype": "text/x-python",
   "name": "python",
   "nbconvert_exporter": "python",
   "pygments_lexer": "ipython3",
   "version": "3.5.2"
  }
 },
 "nbformat": 4,
 "nbformat_minor": 2
}
