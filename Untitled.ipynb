{
 "cells": [
  {
   "cell_type": "code",
   "execution_count": 20,
   "metadata": {},
   "outputs": [],
   "source": [
    "import pandas as pd\n",
    "import sqlite3\n",
    "conn = sqlite3.connect('../SQL/DATABASE.sqlite3')\n",
    "from glob import glob"
   ]
  },
  {
   "cell_type": "code",
   "execution_count": 21,
   "metadata": {},
   "outputs": [],
   "source": [
    "files = glob(\"../SQL/*.csv\")\n",
    "files2 = glob(\"../SQL/tables/*.csv\")\n",
    "files = files + files2"
   ]
  },
  {
   "cell_type": "code",
   "execution_count": 19,
   "metadata": {},
   "outputs": [
    {
     "data": {
      "text/plain": [
       "['../SQL/drought_consultas_br_aux_big_sul_crop.csv',\n",
       " '../SQL/drought_consultas_br_swdi_root_abs_region.csv',\n",
       " '../SQL/drought_consultas_br_et.csv',\n",
       " '../SQL/drought_consultas_br_sm_root_abs_region.csv',\n",
       " '../SQL/drought_consultas_br_sul_chirps_prec.csv',\n",
       " '../SQL/drought_consultas_br_csfull_et.csv',\n",
       " '../SQL/drought_consultas_br_ndvi.csv',\n",
       " '../SQL/drought_consultas_br_csfull_ndvi.csv',\n",
       " '../SQL/drought_consultas_br_lai.csv',\n",
       " '../SQL/drought_consultas_br_sul_chirps_zscore.csv',\n",
       " '../SQL/drought_consultas_br_esi_regioes.csv',\n",
       " '../SQL/drought_consultas_br_aux_big_sul.csv',\n",
       " '../SQL/drought_consultas_br_csfull_lai.csv',\n",
       " '../SQL/SMsurf_anomalies.csv',\n",
       " '../SQL/drought_consultas_br_sm_surf_anom_region.csv',\n",
       " '../SQL/SMsurf_absolute.csv',\n",
       " '../SQL/drought_consultas_br_esi.csv',\n",
       " '../SQL/drought_consultas_br_sm_surf_abs_region.csv',\n",
       " '../SQL/SMroot_anomalies.csv',\n",
       " '../SQL/drought_consultas_br_lst_day.csv',\n",
       " '../SQL/drought_consultas_br_swdi_surface_abs_region.csv',\n",
       " '../SQL/SMroot_absolute.csv',\n",
       " '../SQL/sul_muni.csv',\n",
       " '../SQL/drought_consultas_br_esi_regioes_crop.csv',\n",
       " '../SQL/MEI.csv',\n",
       " '../SQL/drought_consultas_br_sm_root_anom_region.csv',\n",
       " '../SQL/drought_consultas_br_lst_night.csv',\n",
       " '../SQL/tables/GPP_filt2_abs_mean.csv',\n",
       " '../SQL/tables/NDVI_filt_mean.csv',\n",
       " '../SQL/tables/ET_filt_anom_mean.csv',\n",
       " '../SQL/tables/SMroot_wmeans_mean.csv',\n",
       " '../SQL/tables/swdi.csv',\n",
       " '../SQL/tables/SMsurf_wmeans_mean.csv',\n",
       " '../SQL/tables/ET_raw_mean.csv',\n",
       " '../SQL/tables/esi04_median.csv',\n",
       " '../SQL/tables/FPAR_filt_anom_mean.csv',\n",
       " '../SQL/tables/esi04_mean.csv',\n",
       " '../SQL/tables/LAI_filt_anom_mean.csv']"
      ]
     },
     "execution_count": 19,
     "metadata": {},
     "output_type": "execute_result"
    }
   ],
   "source": [
    "files"
   ]
  },
  {
   "cell_type": "code",
   "execution_count": 22,
   "metadata": {},
   "outputs": [
    {
     "name": "stderr",
     "output_type": "stream",
     "text": [
      "/usr/local/lib/python3.5/dist-packages/pandas/core/generic.py:2130: UserWarning: The spaces in these column names will not be changed. In pandas versions < 0.14, spaces were converted to underscores.\n",
      "  dtype=dtype)\n"
     ]
    },
    {
     "name": "stdout",
     "output_type": "stream",
     "text": [
      "CPU times: user 27.7 s, sys: 1.69 s, total: 29.4 s\n",
      "Wall time: 32.6 s\n"
     ]
    }
   ],
   "source": [
    "%%time\n",
    "for i in files:\n",
    "    df = pd.read_csv(i)\n",
    "    df.to_sql(i.split('/')[-1][:-4], conn, index=False)"
   ]
  },
  {
   "cell_type": "code",
   "execution_count": null,
   "metadata": {},
   "outputs": [],
   "source": []
  }
 ],
 "metadata": {
  "kernelspec": {
   "display_name": "Python 3",
   "language": "python",
   "name": "python3"
  },
  "language_info": {
   "codemirror_mode": {
    "name": "ipython",
    "version": 3
   },
   "file_extension": ".py",
   "mimetype": "text/x-python",
   "name": "python",
   "nbconvert_exporter": "python",
   "pygments_lexer": "ipython3",
   "version": "3.5.2"
  }
 },
 "nbformat": 4,
 "nbformat_minor": 2
}
