{
 "cells": [
  {
   "cell_type": "markdown",
   "metadata": {},
   "source": [
    "## MOD05_L2\n",
    "* Downloaded, the tiles don't match\n",
    "* Exclude nighttimes, since we're using WaterVaporNIR\n",
    "* Reproject using HEG\n",
    "* Clip by extent using QGIS (gdal)\n",
    "    * the result is not perfect, there are differences in pixel size, therefore, in matrix sizes\n",
    "* use gdalwarp specifying lines on columns to match the resolution"
   ]
  },
  {
   "cell_type": "markdown",
   "metadata": {},
   "source": [
    "### Renaming"
   ]
  },
  {
   "cell_type": "code",
   "execution_count": 33,
   "metadata": {
    "collapsed": true
   },
   "outputs": [],
   "source": [
    "import sys, os\n",
    "sys.path.append(\"/home/wardlow/denis/mypy\")\n",
    "import xuleta as xu\n",
    "from glob import glob\n",
    "import numpy as np\n",
    "import pylab as plt\n",
    "plt.rcParams['image.cmap'] = 'RdYlGn'\n",
    "%matplotlib inline"
   ]
  },
  {
   "cell_type": "code",
   "execution_count": 17,
   "metadata": {},
   "outputs": [],
   "source": [
    "f = \"/home/denis/Downloads/round2/clipped2/\""
   ]
  },
  {
   "cell_type": "code",
   "execution_count": 18,
   "metadata": {},
   "outputs": [
    {
     "data": {
      "text/plain": [
       "2117"
      ]
     },
     "execution_count": 18,
     "metadata": {},
     "output_type": "execute_result"
    }
   ],
   "source": [
    "l = glob(f+\"*.tif\")\n",
    "len(l)"
   ]
  },
  {
   "cell_type": "code",
   "execution_count": 19,
   "metadata": {},
   "outputs": [],
   "source": [
    "for i in l:\n",
    "    fname = f+i.split(\".\")[1]+\"-\"+i.split(\".\")[2]+\".tif\"\n",
    "    os.rename(i,fname)"
   ]
  },
  {
   "cell_type": "markdown",
   "metadata": {},
   "source": [
    "### Daily maximum"
   ]
  },
  {
   "cell_type": "code",
   "execution_count": 21,
   "metadata": {},
   "outputs": [
    {
     "data": {
      "text/plain": [
       "'/home/denis/Downloads/round2/clipped2/A2011027-1435.tif'"
      ]
     },
     "execution_count": 21,
     "metadata": {},
     "output_type": "execute_result"
    }
   ],
   "source": [
    "l = glob(f+\"*.tif\")\n",
    "fout = f+\"daymax/\"\n",
    "os.makedirs(fout)\n",
    "l[0]"
   ]
  },
  {
   "cell_type": "code",
   "execution_count": 27,
   "metadata": {},
   "outputs": [
    {
     "data": {
      "text/plain": [
       "(1642, '2000275')"
      ]
     },
     "execution_count": 27,
     "metadata": {},
     "output_type": "execute_result"
    }
   ],
   "source": [
    "days = sorted(list(set([ii[-16:-9] for n,ii in enumerate(l) if ii not in l[:n]])))\n",
    "len(days),days[0]"
   ]
  },
  {
   "cell_type": "code",
   "execution_count": 31,
   "metadata": {},
   "outputs": [
    {
     "data": {
      "text/plain": [
       "['/home/denis/Downloads/round2/clipped2/A2000282-1415.tif',\n",
       " '/home/denis/Downloads/round2/clipped2/A2000282-1420.tif']"
      ]
     },
     "execution_count": 31,
     "metadata": {},
     "output_type": "execute_result"
    }
   ],
   "source": [
    "[x for x in l if x[-16:-9] in days[3]]"
   ]
  },
  {
   "cell_type": "code",
   "execution_count": null,
   "metadata": {
    "collapsed": true
   },
   "outputs": [],
   "source": [
    "for i in days:\n",
    "    toOpen = [x for x in l if x[-16:-9] in i]\n",
    "    arrays = []\n",
    "    for j in toOpen:\n",
    "        image,m = xu.TifToArray(j)\n",
    "        arrays.append(image)\n",
    "    arrays = np.asarray(arrays)\n",
    "    print(arrays.shape)\n",
    "    arrays = np.where(arrays<0,np.nan,arrays)\n",
    "    arrays = np.nanmax(arrays,axis=0)\n",
    "    xu.ArrayToTif(arrays,i+\".tif\",fout,m,1)"
   ]
  },
  {
   "cell_type": "markdown",
   "metadata": {},
   "source": [
    "After that, nodata became 0, but not gdally"
   ]
  },
  {
   "cell_type": "code",
   "execution_count": null,
   "metadata": {
    "collapsed": true
   },
   "outputs": [],
   "source": []
  }
 ],
 "metadata": {
  "kernelspec": {
   "display_name": "Python 3",
   "language": "python",
   "name": "python3"
  },
  "language_info": {
   "codemirror_mode": {
    "name": "ipython",
    "version": 3
   },
   "file_extension": ".py",
   "mimetype": "text/x-python",
   "name": "python",
   "nbconvert_exporter": "python",
   "pygments_lexer": "ipython3",
   "version": "3.5.2"
  }
 },
 "nbformat": 4,
 "nbformat_minor": 2
}
